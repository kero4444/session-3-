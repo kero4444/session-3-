{
 "cells": [
  {
   "cell_type": "code",
   "execution_count": 3,
   "id": "b9a9c003-aef1-44a8-a530-53ce00507aa5",
   "metadata": {},
   "outputs": [
    {
     "ename": "NameError",
     "evalue": "name 'temperature' is not defined",
     "output_type": "error",
     "traceback": [
      "\u001b[1;31m---------------------------------------------------------------------------\u001b[0m",
      "\u001b[1;31mNameError\u001b[0m                                 Traceback (most recent call last)",
      "Cell \u001b[1;32mIn[3], line 2\u001b[0m\n\u001b[0;32m      1\u001b[0m Temperature \u001b[38;5;241m=\u001b[39m \u001b[38;5;241m29\u001b[39m\n\u001b[1;32m----> 2\u001b[0m \u001b[38;5;28;01mif\u001b[39;00m temperature \u001b[38;5;241m>\u001b[39m\u001b[38;5;241m=\u001b[39m \u001b[38;5;241m30\u001b[39m:\n\u001b[0;32m      3\u001b[0m     \u001b[38;5;28mprint\u001b[39m (\u001b[38;5;124m\"\u001b[39m\u001b[38;5;124m it is a hot day. stay hydrated \u001b[39m\u001b[38;5;124m\"\u001b[39m)\n\u001b[0;32m      4\u001b[0m \u001b[38;5;28;01melif\u001b[39;00m temperature \u001b[38;5;241m>\u001b[39m\u001b[38;5;241m=\u001b[39m \u001b[38;5;241m20\u001b[39m \u001b[38;5;129;01mand\u001b[39;00m temperature \u001b[38;5;241m<\u001b[39m\u001b[38;5;241m=\u001b[39m \u001b[38;5;241m29\u001b[39m:\n",
      "\u001b[1;31mNameError\u001b[0m: name 'temperature' is not defined"
     ]
    }
   ],
   "source": [
    "temperature = 29\n",
    "if temperature >=\n",
    "    print (\" it is a hot day. stay hydrated \")\n",
    "elif temperature >= 20 and temperature <= 29:\n",
    "    print (\"It is a warm day . Enjoy a jacket \")\n",
    "elif temperature >= 10 and temperature <= 19:\n",
    "    print  (\"It is a cool day .wear a jacket \")\n",
    "else :\n",
    "    print (\"It is a cold day . stay warm\")"
   ]
  },
  {
   "cell_type": "code",
   "execution_count": 2,
   "id": "33e347da-cc32-4e82-878f-d3110b973bbe",
   "metadata": {},
   "outputs": [
    {
     "name": "stdout",
     "output_type": "stream",
     "text": [
      "3\n",
      "6\n",
      "9\n",
      "12\n",
      "15\n",
      "18\n"
     ]
    }
   ],
   "source": [
    "numbers = (range (1,21))\n",
    "for k in numbers :\n",
    "    if k % 3 ==0:\n",
    "        print (k)\n"
   ]
  },
  {
   "cell_type": "code",
   "execution_count": null,
   "id": "d236daba-58ae-437f-a6c7-905e8b5ac583",
   "metadata": {},
   "outputs": [],
   "source": []
  }
 ],
 "metadata": {
  "kernelspec": {
   "display_name": "Python 3 (ipykernel)",
   "language": "python",
   "name": "python3"
  },
  "language_info": {
   "codemirror_mode": {
    "name": "ipython",
    "version": 3
   },
   "file_extension": ".py",
   "mimetype": "text/x-python",
   "name": "python",
   "nbconvert_exporter": "python",
   "pygments_lexer": "ipython3",
   "version": "3.13.5"
  }
 },
 "nbformat": 4,
 "nbformat_minor": 5
}
